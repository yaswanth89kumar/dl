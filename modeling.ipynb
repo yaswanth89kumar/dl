{
 "cells": [
  {
   "cell_type": "code",
   "execution_count": 1,
   "metadata": {},
   "outputs": [
    {
     "name": "stderr",
     "output_type": "stream",
     "text": [
      "Using TensorFlow backend.\n"
     ]
    }
   ],
   "source": [
    "import keras\n",
    "from keras.models import Sequential\n",
    "from keras.layers import Dense, Conv2D, MaxPooling2D, Flatten, Dropout, BatchNormalization\n",
    "from keras.callbacks import TensorBoard\n",
    "import pickle\n",
    "from keras.optimizers import SGD"
   ]
  },
  {
   "cell_type": "code",
   "execution_count": 2,
   "metadata": {},
   "outputs": [],
   "source": [
    "batch_size = 20\n",
    "epochs = 50"
   ]
  },
  {
   "cell_type": "code",
   "execution_count": 3,
   "metadata": {},
   "outputs": [],
   "source": [
    "X = pickle.load(open('X.pkl', 'rb'))\n",
    "y = pickle.load(open('y.pkl', 'rb'))"
   ]
  },
  {
   "cell_type": "code",
   "execution_count": 4,
   "metadata": {},
   "outputs": [],
   "source": [
    "model = Sequential()"
   ]
  },
  {
   "cell_type": "code",
   "execution_count": 5,
   "metadata": {},
   "outputs": [],
   "source": [
    "model.add(Conv2D(32, (5,5)))\n",
    "model.add(MaxPooling2D(pool_size = (2,2), strides=(2,2)))\n",
    "model.add(Dropout(0.4))"
   ]
  },
  {
   "cell_type": "code",
   "execution_count": 6,
   "metadata": {},
   "outputs": [],
   "source": [
    "model.add(Conv2D(64, (5,5)))\n",
    "model.add(MaxPooling2D(pool_size = (2,2), strides=(2,2)))\n",
    "model.add(Dropout(0.4))"
   ]
  },
  {
   "cell_type": "code",
   "execution_count": 7,
   "metadata": {},
   "outputs": [],
   "source": [
    "model.add(Flatten())"
   ]
  },
  {
   "cell_type": "code",
   "execution_count": 8,
   "metadata": {},
   "outputs": [],
   "source": [
    "model.add(Dense(32, activation = 'relu', input_shape = X.shape[1:]))\n",
    "model.add(BatchNormalization())\n",
    "model.add(Dropout(0.4))\n",
    "\n",
    "model.add(Dense(2, activation = 'softmax'))"
   ]
  },
  {
   "cell_type": "code",
   "execution_count": 9,
   "metadata": {},
   "outputs": [],
   "source": [
    "opt = SGD(lr=0.001, momentum=0.9)"
   ]
  },
  {
   "cell_type": "code",
   "execution_count": 10,
   "metadata": {},
   "outputs": [],
   "source": [
    "model.compile(optimizer = opt, loss = 'sparse_categorical_crossentropy', metrics=['accuracy'])"
   ]
  },
  {
   "cell_type": "code",
   "execution_count": null,
   "metadata": {},
   "outputs": [
    {
     "name": "stdout",
     "output_type": "stream",
     "text": [
      "Train on 945 samples, validate on 105 samples\n",
      "Epoch 1/50\n",
      "945/945 [==============================] - 112s 118ms/step - loss: 0.7756 - accuracy: 0.5429 - val_loss: 0.6620 - val_accuracy: 0.6286\n",
      "Epoch 2/50\n",
      "945/945 [==============================] - 133s 140ms/step - loss: 0.6908 - accuracy: 0.5862 - val_loss: 0.6475 - val_accuracy: 0.5714\n",
      "Epoch 3/50\n",
      "945/945 [==============================] - 118s 125ms/step - loss: 0.6427 - accuracy: 0.6434 - val_loss: 0.6708 - val_accuracy: 0.5619\n",
      "Epoch 4/50\n",
      "945/945 [==============================] - 116s 123ms/step - loss: 0.5812 - accuracy: 0.6847 - val_loss: 0.6200 - val_accuracy: 0.5905\n",
      "Epoch 5/50\n",
      "945/945 [==============================] - 113s 120ms/step - loss: 0.5165 - accuracy: 0.7323 - val_loss: 0.5991 - val_accuracy: 0.7143\n",
      "Epoch 6/50\n",
      "945/945 [==============================] - 128s 135ms/step - loss: 0.4466 - accuracy: 0.7968 - val_loss: 0.6039 - val_accuracy: 0.7429\n",
      "Epoch 7/50\n",
      "945/945 [==============================] - 147s 155ms/step - loss: 0.4294 - accuracy: 0.8106 - val_loss: 0.8901 - val_accuracy: 0.6857\n",
      "Epoch 8/50\n",
      "945/945 [==============================] - 112s 118ms/step - loss: 0.3752 - accuracy: 0.8328 - val_loss: 0.5426 - val_accuracy: 0.7238\n",
      "Epoch 9/50\n",
      "945/945 [==============================] - 112s 119ms/step - loss: 0.3966 - accuracy: 0.8233 - val_loss: 0.8043 - val_accuracy: 0.7714\n",
      "Epoch 10/50\n",
      "945/945 [==============================] - 113s 120ms/step - loss: 0.2934 - accuracy: 0.8868 - val_loss: 0.5714 - val_accuracy: 0.7619\n",
      "Epoch 11/50\n",
      "945/945 [==============================] - 115s 122ms/step - loss: 0.2196 - accuracy: 0.9333 - val_loss: 1.0418 - val_accuracy: 0.7048\n",
      "Epoch 12/50\n",
      "945/945 [==============================] - 105s 111ms/step - loss: 0.1914 - accuracy: 0.9365 - val_loss: 2.0708 - val_accuracy: 0.5905\n",
      "Epoch 13/50\n",
      "945/945 [==============================] - 101s 107ms/step - loss: 0.1868 - accuracy: 0.9439 - val_loss: 1.9997 - val_accuracy: 0.6571\n",
      "Epoch 14/50\n",
      "945/945 [==============================] - 94s 99ms/step - loss: 0.1768 - accuracy: 0.9407 - val_loss: 8.6146 - val_accuracy: 0.4762\n",
      "Epoch 15/50\n",
      "945/945 [==============================] - 88s 93ms/step - loss: 0.1997 - accuracy: 0.9291 - val_loss: 2.9508 - val_accuracy: 0.6286\n",
      "Epoch 16/50\n",
      "945/945 [==============================] - 88s 93ms/step - loss: 0.1403 - accuracy: 0.9566 - val_loss: 8.9508 - val_accuracy: 0.5524\n",
      "Epoch 17/50\n",
      "920/945 [============================>.] - ETA: 2s - loss: 0.1154 - accuracy: 0.9652"
     ]
    }
   ],
   "source": [
    "model.fit(X, y, batch_size = batch_size, epochs=epochs, validation_split=0.1)"
   ]
  },
  {
   "cell_type": "code",
   "execution_count": null,
   "metadata": {},
   "outputs": [],
   "source": [
    "model.save('classification.model')"
   ]
  },
  {
   "cell_type": "code",
   "execution_count": null,
   "metadata": {},
   "outputs": [],
   "source": []
  }
 ],
 "metadata": {
  "kernelspec": {
   "display_name": "Python 3",
   "language": "python",
   "name": "python3"
  },
  "language_info": {
   "codemirror_mode": {
    "name": "ipython",
    "version": 3
   },
   "file_extension": ".py",
   "mimetype": "text/x-python",
   "name": "python",
   "nbconvert_exporter": "python",
   "pygments_lexer": "ipython3",
   "version": "3.7.9"
  }
 },
 "nbformat": 4,
 "nbformat_minor": 4
}
