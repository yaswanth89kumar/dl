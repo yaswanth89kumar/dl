{
 "cells": [
  {
   "cell_type": "code",
   "execution_count": 1,
   "metadata": {},
   "outputs": [],
   "source": [
    "import os\n",
    "DIRECTORY = r'D:\\\\AIEngineer\\\\DL\\\\data\\\\train'\n",
    "CATEGORIES = ['cats', 'dogs']\n",
    "IMG_SIZE = (100, 100)"
   ]
  },
  {
   "cell_type": "code",
   "execution_count": 2,
   "metadata": {},
   "outputs": [
    {
     "name": "stderr",
     "output_type": "stream",
     "text": [
      "Using TensorFlow backend.\n"
     ]
    }
   ],
   "source": [
    "from keras.preprocessing.image import ImageDataGenerator, array_to_img, img_to_array, load_img \n",
    "   \n",
    "# Initialising the ImageDataGenerator class. \n",
    "# We will pass in the augmentation parameters in the constructor. \n",
    "\n",
    "datagen = ImageDataGenerator( \n",
    "        rescale=1./255,\n",
    "        rotation_range = 40, \n",
    "        shear_range = 0.55, \n",
    "        zoom_range = 0.22, \n",
    "        horizontal_flip = True, \n",
    "        brightness_range = (0.1, 0.2),\n",
    "        vertical_flip=True) "
   ]
  },
  {
   "cell_type": "code",
   "execution_count": 11,
   "metadata": {},
   "outputs": [],
   "source": [
    "for folder in os.listdir(DIRECTORY):\n",
    "    path = os.path.join(DIRECTORY, folder)\n",
    "    for img in os.listdir(path):\n",
    "        try:\n",
    "            img_path = os.path.join(path, img)\n",
    "            \n",
    "            # Loading a sample image\n",
    "            img = load_img(img_path) \n",
    "            \n",
    "            # Converting the input sample image to an array\n",
    "            x = img_to_array(img)\n",
    "            \n",
    "            # Reshaping the input image\n",
    "            x = x.reshape((1, ) + x.shape)\n",
    "            \n",
    "            # Generating and saving 5 augmented samples  \n",
    "            # using the above defined parameters. \n",
    "            # dir_1 = r'path for the folder where you want images to be saved'\n",
    "            dir_1 = r'D:\\\\AIEngineer\\\\DL\\\\data\\\\train\\\\'+ folder\n",
    "\n",
    "            i = 0\n",
    "            for batch in datagen.flow(x, batch_size = 1, \n",
    "                          save_to_dir = dir_1,  \n",
    "                          save_prefix ='image', save_format ='jpeg'): \n",
    "                i += 1\n",
    "                if i > 25:\n",
    "                    break\n",
    "        except Exception as e:\n",
    "            print(e)"
   ]
  },
  {
   "cell_type": "code",
   "execution_count": null,
   "metadata": {},
   "outputs": [],
   "source": []
  },
  {
   "cell_type": "code",
   "execution_count": null,
   "metadata": {},
   "outputs": [],
   "source": []
  }
 ],
 "metadata": {
  "kernelspec": {
   "display_name": "Python 3",
   "language": "python",
   "name": "python3"
  },
  "language_info": {
   "codemirror_mode": {
    "name": "ipython",
    "version": 3
   },
   "file_extension": ".py",
   "mimetype": "text/x-python",
   "name": "python",
   "nbconvert_exporter": "python",
   "pygments_lexer": "ipython3",
   "version": "3.7.9"
  }
 },
 "nbformat": 4,
 "nbformat_minor": 4
}
